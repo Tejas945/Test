{
 "cells": [
  {
   "cell_type": "markdown",
   "metadata": {},
   "source": [
    "# Program to Generate combined IP report"
   ]
  },
  {
   "cell_type": "code",
   "execution_count": 75,
   "metadata": {},
   "outputs": [
    {
     "data": {
      "text/html": [
       "<div>\n",
       "<style scoped>\n",
       "    .dataframe tbody tr th:only-of-type {\n",
       "        vertical-align: middle;\n",
       "    }\n",
       "\n",
       "    .dataframe tbody tr th {\n",
       "        vertical-align: top;\n",
       "    }\n",
       "\n",
       "    .dataframe thead th {\n",
       "        text-align: right;\n",
       "    }\n",
       "</style>\n",
       "<table border=\"1\" class=\"dataframe\">\n",
       "  <thead>\n",
       "    <tr style=\"text-align: right;\">\n",
       "      <th></th>\n",
       "      <th>Source IP</th>\n",
       "      <th>Environment</th>\n",
       "    </tr>\n",
       "  </thead>\n",
       "  <tbody>\n",
       "    <tr>\n",
       "      <th>0</th>\n",
       "      <td>6.6.6.6</td>\n",
       "      <td>Asia Prod</td>\n",
       "    </tr>\n",
       "    <tr>\n",
       "      <th>0</th>\n",
       "      <td>7.7.7.7</td>\n",
       "      <td>Asia Prod</td>\n",
       "    </tr>\n",
       "    <tr>\n",
       "      <th>1</th>\n",
       "      <td>8.8.8.8</td>\n",
       "      <td>Asia Prod</td>\n",
       "    </tr>\n",
       "    <tr>\n",
       "      <th>2</th>\n",
       "      <td>9.9.9.9</td>\n",
       "      <td>Asia Prod</td>\n",
       "    </tr>\n",
       "    <tr>\n",
       "      <th>3</th>\n",
       "      <td>10.10.10.10</td>\n",
       "      <td>Asia Prod</td>\n",
       "    </tr>\n",
       "    <tr>\n",
       "      <th>0</th>\n",
       "      <td>4.4.4.4</td>\n",
       "      <td>Asia Prod</td>\n",
       "    </tr>\n",
       "    <tr>\n",
       "      <th>1</th>\n",
       "      <td>5.5.5.5</td>\n",
       "      <td>Asia Prod</td>\n",
       "    </tr>\n",
       "    <tr>\n",
       "      <th>0</th>\n",
       "      <td>1.1.1.1</td>\n",
       "      <td>NA Prod</td>\n",
       "    </tr>\n",
       "    <tr>\n",
       "      <th>2</th>\n",
       "      <td>2.2.2.2</td>\n",
       "      <td>NA Prod</td>\n",
       "    </tr>\n",
       "    <tr>\n",
       "      <th>3</th>\n",
       "      <td>3.3.3.3</td>\n",
       "      <td>NA Prod</td>\n",
       "    </tr>\n",
       "  </tbody>\n",
       "</table>\n",
       "</div>"
      ],
      "text/plain": [
       "     Source IP Environment\n",
       "0      6.6.6.6  Asia Prod \n",
       "0      7.7.7.7  Asia Prod \n",
       "1      8.8.8.8  Asia Prod \n",
       "2      9.9.9.9  Asia Prod \n",
       "3  10.10.10.10  Asia Prod \n",
       "0      4.4.4.4  Asia Prod \n",
       "1      5.5.5.5  Asia Prod \n",
       "0      1.1.1.1     NA Prod\n",
       "2      2.2.2.2     NA Prod\n",
       "3      3.3.3.3     NA Prod"
      ]
     },
     "execution_count": 75,
     "metadata": {},
     "output_type": "execute_result"
    }
   ],
   "source": [
    "import re #regular expression\n",
    "\n",
    "import pandas as pd\n",
    "import glob\n",
    "\n",
    "data = pd.DataFrame() #create a new python dataframe\n",
    "for filename in glob.glob('*.csv'): #loop through each of the files\n",
    "    \n",
    "    if filename == 'combined.csv':\n",
    "        continue\n",
    "    df = pd.read_csv(filename, usecols =['Source IP'])\n",
    "    df = df.drop_duplicates()\n",
    "    filename = filename.split('.csv')[0]\n",
    "    \n",
    "    filename = [re.sub('[0-9]', '', filename)]*len(df) #remove numbers present in the filename, replicate filename for multiple rows\n",
    "    df['Environment'] = filename\n",
    "    data = pd.concat([data,df],axis =0) #concatinate \n",
    "    \n",
    "    #print(filename)\n",
    "    #print(df)\n",
    "    \n",
    "\n",
    "#print(df.drop_duplicates())\n",
    "data"
   ]
  },
  {
   "cell_type": "markdown",
   "metadata": {},
   "source": [
    "##  Function to calculate the IP value"
   ]
  },
  {
   "cell_type": "code",
   "execution_count": 76,
   "metadata": {},
   "outputs": [],
   "source": [
    "def ip_sorting_key(ips):\n",
    "    #ip = ip['Source IP']\n",
    "    total = []\n",
    "    for ip in ips:\n",
    "        ascii_total = 0 #calculate the Ascii total for each IP address\n",
    "        for char in ip:  \n",
    "            #print(\"char=\",char)\n",
    "            ascii_total += ord(char) #ord-gets ascii value\n",
    "        total.append(ascii_total)\n",
    "    \n",
    "    return pd.Series(total)"
   ]
  },
  {
   "cell_type": "code",
   "execution_count": 77,
   "metadata": {},
   "outputs": [
    {
     "data": {
      "text/html": [
       "<div>\n",
       "<style scoped>\n",
       "    .dataframe tbody tr th:only-of-type {\n",
       "        vertical-align: middle;\n",
       "    }\n",
       "\n",
       "    .dataframe tbody tr th {\n",
       "        vertical-align: top;\n",
       "    }\n",
       "\n",
       "    .dataframe thead th {\n",
       "        text-align: right;\n",
       "    }\n",
       "</style>\n",
       "<table border=\"1\" class=\"dataframe\">\n",
       "  <thead>\n",
       "    <tr style=\"text-align: right;\">\n",
       "      <th></th>\n",
       "      <th>Source IP</th>\n",
       "      <th>Environment</th>\n",
       "    </tr>\n",
       "  </thead>\n",
       "  <tbody>\n",
       "    <tr>\n",
       "      <th>0</th>\n",
       "      <td>1.1.1.1</td>\n",
       "      <td>NA Prod</td>\n",
       "    </tr>\n",
       "    <tr>\n",
       "      <th>2</th>\n",
       "      <td>2.2.2.2</td>\n",
       "      <td>NA Prod</td>\n",
       "    </tr>\n",
       "    <tr>\n",
       "      <th>3</th>\n",
       "      <td>3.3.3.3</td>\n",
       "      <td>NA Prod</td>\n",
       "    </tr>\n",
       "    <tr>\n",
       "      <th>0</th>\n",
       "      <td>4.4.4.4</td>\n",
       "      <td>Asia Prod</td>\n",
       "    </tr>\n",
       "    <tr>\n",
       "      <th>1</th>\n",
       "      <td>5.5.5.5</td>\n",
       "      <td>Asia Prod</td>\n",
       "    </tr>\n",
       "    <tr>\n",
       "      <th>0</th>\n",
       "      <td>6.6.6.6</td>\n",
       "      <td>Asia Prod</td>\n",
       "    </tr>\n",
       "    <tr>\n",
       "      <th>0</th>\n",
       "      <td>7.7.7.7</td>\n",
       "      <td>Asia Prod</td>\n",
       "    </tr>\n",
       "    <tr>\n",
       "      <th>1</th>\n",
       "      <td>8.8.8.8</td>\n",
       "      <td>Asia Prod</td>\n",
       "    </tr>\n",
       "    <tr>\n",
       "      <th>2</th>\n",
       "      <td>9.9.9.9</td>\n",
       "      <td>Asia Prod</td>\n",
       "    </tr>\n",
       "    <tr>\n",
       "      <th>3</th>\n",
       "      <td>10.10.10.10</td>\n",
       "      <td>Asia Prod</td>\n",
       "    </tr>\n",
       "  </tbody>\n",
       "</table>\n",
       "</div>"
      ],
      "text/plain": [
       "     Source IP Environment\n",
       "0      1.1.1.1     NA Prod\n",
       "2      2.2.2.2     NA Prod\n",
       "3      3.3.3.3     NA Prod\n",
       "0      4.4.4.4  Asia Prod \n",
       "1      5.5.5.5  Asia Prod \n",
       "0      6.6.6.6  Asia Prod \n",
       "0      7.7.7.7  Asia Prod \n",
       "1      8.8.8.8  Asia Prod \n",
       "2      9.9.9.9  Asia Prod \n",
       "3  10.10.10.10  Asia Prod "
      ]
     },
     "execution_count": 77,
     "metadata": {},
     "output_type": "execute_result"
    }
   ],
   "source": [
    "data.sort_values(by=['Source IP'],key = ip_sorting_key) #sort IP based on its value in ascending order"
   ]
  },
  {
   "cell_type": "code",
   "execution_count": 78,
   "metadata": {},
   "outputs": [],
   "source": [
    "#ip_sorting_key(data['Source IP'])"
   ]
  },
  {
   "cell_type": "markdown",
   "metadata": {},
   "source": [
    "## Sort the IP by rows and store "
   ]
  },
  {
   "cell_type": "code",
   "execution_count": 79,
   "metadata": {},
   "outputs": [],
   "source": [
    "data = data.sort_values(by=['Source IP'],key = ip_sorting_key) #default Quicksort is used"
   ]
  },
  {
   "cell_type": "code",
   "execution_count": 80,
   "metadata": {},
   "outputs": [],
   "source": [
    "data.to_csv(\"combined.csv\", index = False) # Save data to combined without index column"
   ]
  }
 ],
 "metadata": {
  "kernelspec": {
   "display_name": "Python 3",
   "language": "python",
   "name": "python3"
  },
  "language_info": {
   "codemirror_mode": {
    "name": "ipython",
    "version": 3
   },
   "file_extension": ".py",
   "mimetype": "text/x-python",
   "name": "python",
   "nbconvert_exporter": "python",
   "pygments_lexer": "ipython3",
   "version": "3.8.5"
  }
 },
 "nbformat": 4,
 "nbformat_minor": 4
}
